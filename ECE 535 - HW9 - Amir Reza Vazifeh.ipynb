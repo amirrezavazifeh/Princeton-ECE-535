{
  "cells": [
    {
      "cell_type": "markdown",
      "metadata": {
        "id": "yi04OX1oCDfK"
      },
      "source": [
        "# ELE 435/535 Homework 9: Gradient Descent and Neural Networks"
      ]
    },
    {
      "cell_type": "markdown",
      "source": [
        "### Name: Amir Reza Vazifeh"
      ],
      "metadata": {
        "id": "xEghTqkUCGvZ"
      }
    },
    {
      "cell_type": "markdown",
      "metadata": {
        "id": "1qiIc-ZVCDfN"
      },
      "source": [
        "## Part 1. Neural Networks\n",
        "\n",
        "In this part, we will use Keras and TensorFlow to train a neural network on MNIST dataset. We will compare the neural network with a multinomial softmax regression. Write the code for training these two models.\n",
        "\n",
        "There are two options to do this: (1) Install TensorFlow as descibed below,   \n",
        "OR   \n",
        "use Google's Colab. Option 2 offers the potential of faster machines and a nice jupyter notebook style API. The code and results you write and run on Colab can be downloaded as a Jupyter notebook. NOTE: the load on Colab varies over time so don't wait to the last day to use Colab."
      ]
    },
    {
      "cell_type": "markdown",
      "metadata": {
        "id": "OFZCCF1aCDfO"
      },
      "source": [
        "## 1. TensorFlow Installation\n",
        "\n",
        "TensorFlow is a free and an open source software library for numerical computation using data flow graphs. It was originally developed by researchers and engineers working on the Google Brain Team within Google's Machine Intelligence research organization for the purposes of conducting machine learning and deep neural networks research. However, it's applicable in a wide variety of other domains as well.\n",
        "\n",
        "1. Install Anaconda by following the instructions here https://www.anaconda.com/download. This should work for all MAC, Linux and Windows operating systems.\n",
        "2. Open your Anaconda terminal and create a new environment called tensorflow using the following command: <br> conda create -n tensorflow python=3.6 <br>\n",
        "3. Now, activate your tensorflow environment by typing <br> source activate tensorflow (MAC and Linux) <br> activate tensorflow (Windows) <br>\n",
        "4. Once the new envoironment is activated, we are going to install the following packages:<br> conda install ipython <br> conda install jupyter <br> conda install matplotlib <br> conda install -c conda-forge tensorflow"
      ]
    },
    {
      "cell_type": "markdown",
      "metadata": {
        "id": "HCubu84NCDfP"
      },
      "source": [
        "## 2. Import keras from Tensorflow\n",
        "There are many well-written tutorials on how to use TensorFlow. For example, see:  <br> https://www.datacamp.com/community/tutorials/tensorflow-tutorial <br>\n",
        "Further, these days high-level APIs such as Keras has made it very easy to train very deep neural networks. For example, simply with 4-5 lines of code with Keras running on top of TensorFlow (https://www.tensorflow.org/tutorials/), you can get more than 95% test accuracy on MNIST."
      ]
    },
    {
      "cell_type": "code",
      "execution_count": 1,
      "metadata": {
        "id": "_ua6gk8JCDfP"
      },
      "outputs": [],
      "source": [
        "# This code is provided\n",
        "import tensorflow as tf\n",
        "from tensorflow import keras\n",
        "import matplotlib.pyplot as plt\n",
        "import numpy as np"
      ]
    },
    {
      "cell_type": "markdown",
      "metadata": {
        "id": "FXTjUAx2CDfQ"
      },
      "source": [
        "## 3. Load the MINST dataset from keras"
      ]
    },
    {
      "cell_type": "code",
      "execution_count": 2,
      "metadata": {
        "colab": {
          "base_uri": "https://localhost:8080/",
          "height": 0
        },
        "id": "_l7DZisBCDfQ",
        "outputId": "fd21d878-dcf0-4621-a162-e41babd2636c"
      },
      "outputs": [
        {
          "output_type": "stream",
          "name": "stdout",
          "text": [
            "Training images shape: (30000, 28, 28)\n",
            "Training labels shape: (30000,)\n",
            "Testing images shape: (10000, 28, 28)\n",
            "Training labels shape: (10000,)\n",
            "------------------------------------------------------\n",
            "Reshaped training images shape: (30000, 784)\n",
            "Reshaped testing images shape: (10000, 784)\n",
            "One-hot encoded training labels shape: (30000, 10)\n",
            "One-hot encoded testing labels shape: (10000, 10)\n"
          ]
        }
      ],
      "source": [
        "from tensorflow.keras.datasets import mnist\n",
        "from tensorflow.keras.utils import to_categorical\n",
        "\n",
        "\n",
        "# This code is provided\n",
        "# download the data\n",
        "num_train = 30000\n",
        "(train_images_2d, train_labels), (test_images_2d, test_labels) = mnist.load_data()\n",
        "train_images_2d = train_images_2d[0:num_train,:,:]\n",
        "train_labels = train_labels[0:num_train]\n",
        "print('Training images shape:',train_images_2d.shape)\n",
        "print('Training labels shape:',train_labels.shape)\n",
        "print('Testing images shape:',test_images_2d.shape)\n",
        "print('Training labels shape:',test_labels.shape)\n",
        "print('------------------------------------------------------')\n",
        "\n",
        "# reshape and scale the images\n",
        "train_images = train_images_2d.reshape(num_train,28*28)\n",
        "train_images = train_images.astype('float32')/255\n",
        "test_images = test_images_2d.reshape(10000, 28*28)\n",
        "test_images = test_images.astype('float32')/255\n",
        "\n",
        "# process the labels to one-hot encoded form\n",
        "train_labels = to_categorical(train_labels)\n",
        "test_labels = to_categorical(test_labels)\n",
        "\n",
        "print('Reshaped training images shape:', train_images.shape)\n",
        "print('Reshaped testing images shape:', test_images.shape)\n",
        "print('One-hot encoded training labels shape:', train_labels.shape)\n",
        "print('One-hot encoded testing labels shape:', test_labels.shape)"
      ]
    },
    {
      "cell_type": "markdown",
      "metadata": {
        "id": "9svwjcxbCDfR"
      },
      "source": [
        "## 4. Training a multinomial softmax regression using Keras/TensorFlow on MNIST\n",
        "Write the code for training multinomial softmax regression using the keras API. The network is 784 (the size of the input layer) -> 10 (the size of the output layer) -> softmax (activiation function for the output layer). Then After training for 5 epochs, report the testing loss and testing accuracy."
      ]
    },
    {
      "cell_type": "code",
      "execution_count": 3,
      "metadata": {
        "colab": {
          "base_uri": "https://localhost:8080/",
          "height": 0
        },
        "id": "IDqo7bnkCDfS",
        "outputId": "3cbd221a-a6ca-47ee-aa04-1e437aa74e8a"
      },
      "outputs": [
        {
          "output_type": "stream",
          "name": "stdout",
          "text": [
            "Model: \"MSReg_4_MNIST\"\n",
            "_________________________________________________________________\n",
            " Layer (type)                Output Shape              Param #   \n",
            "=================================================================\n",
            " dense (Dense)               (None, 10)                7850      \n",
            "                                                                 \n",
            "=================================================================\n",
            "Total params: 7850 (30.66 KB)\n",
            "Trainable params: 7850 (30.66 KB)\n",
            "Non-trainable params: 0 (0.00 Byte)\n",
            "_________________________________________________________________\n"
          ]
        }
      ],
      "source": [
        "#This code is given to you\n",
        "\n",
        "MSReg = keras.models.Sequential(name='MSReg_4_MNIST')\n",
        "\n",
        "MSReg.add(keras.layers.Dense(10, activation='softmax', input_shape=(28*28,)))\n",
        "\n",
        "MSReg.compile(optimizer = 'RMSprop',\n",
        "               loss = 'categorical_crossentropy',\n",
        "               metrics = ['accuracy'])\n",
        "\n",
        "MSReg.summary()"
      ]
    },
    {
      "cell_type": "markdown",
      "source": [
        "**Describing the number of parameters:** We will be exploring 10 learnable weight vectors, each with a size of 784, accompanied by one bias for each vector. Therefore, the total number of parameters is calculated as $10 \\times 784 + 10 = 7850$."
      ],
      "metadata": {
        "id": "FzmIWPqDRONz"
      }
    },
    {
      "cell_type": "code",
      "execution_count": 4,
      "metadata": {
        "colab": {
          "base_uri": "https://localhost:8080/",
          "height": 0
        },
        "id": "_mrwoM1qCDfS",
        "outputId": "2cc3737c-9439-4067-bc4f-f253435d6881"
      },
      "outputs": [
        {
          "output_type": "stream",
          "name": "stdout",
          "text": [
            "Epoch 1/5\n",
            "235/235 [==============================] - 1s 4ms/step - loss: 0.8115 - accuracy: 0.8116\n",
            "Epoch 2/5\n",
            "235/235 [==============================] - 1s 4ms/step - loss: 0.3929 - accuracy: 0.8956\n",
            "Epoch 3/5\n",
            "235/235 [==============================] - 1s 4ms/step - loss: 0.3386 - accuracy: 0.9081\n",
            "Epoch 4/5\n",
            "235/235 [==============================] - 1s 3ms/step - loss: 0.3149 - accuracy: 0.9137\n",
            "Epoch 5/5\n",
            "235/235 [==============================] - 1s 3ms/step - loss: 0.3004 - accuracy: 0.9176\n",
            "------------------------------------------------------------------------------------\n",
            "Multinomial softmax regression testing loss -->  0.2964105010032654\n",
            "Multinomial softmax regression testing accuracy -->  0.9154999852180481\n"
          ]
        }
      ],
      "source": [
        "# This code is given to you\n",
        "MSReg.fit(train_images, train_labels, epochs=5, batch_size=128, verbose=1)\n",
        "\n",
        "test_loss, test_acc = MSReg.evaluate(test_images, test_labels, verbose=0)\n",
        "print('------------------------------------------------------------------------------------')\n",
        "print('Multinomial softmax regression testing loss --> ', test_loss)\n",
        "print('Multinomial softmax regression testing accuracy --> ', test_acc)"
      ]
    },
    {
      "cell_type": "markdown",
      "metadata": {
        "id": "t1g38sdCCDfS"
      },
      "source": [
        "## 5. Training an multilayer perceptron (MLP) using Keras/TensorFlow on MNIST\n",
        "Write the code for training an MLP using keras API. The model parameter is 784 (the size of the input layer) -> 512 (middle hidden layer) -> relu (activiation function for the middle hidden layer) -> 10 (the size of the output layer) -> softmax (activiation function for the output layer). Then report the testing loss and testing accuracy."
      ]
    },
    {
      "cell_type": "code",
      "execution_count": 5,
      "metadata": {
        "colab": {
          "base_uri": "https://localhost:8080/",
          "height": 0
        },
        "id": "tHADOq1jCDfS",
        "outputId": "396febe7-eacf-468a-8fd6-0871d6ac207e"
      },
      "outputs": [
        {
          "output_type": "stream",
          "name": "stdout",
          "text": [
            "Model: \"Uno_HL_NN\"\n",
            "_________________________________________________________________\n",
            " Layer (type)                Output Shape              Param #   \n",
            "=================================================================\n",
            " dense_1 (Dense)             (None, 512)               401920    \n",
            "                                                                 \n",
            " dense_2 (Dense)             (None, 10)                5130      \n",
            "                                                                 \n",
            "=================================================================\n",
            "Total params: 407050 (1.55 MB)\n",
            "Trainable params: 407050 (1.55 MB)\n",
            "Non-trainable params: 0 (0.00 Byte)\n",
            "_________________________________________________________________\n"
          ]
        }
      ],
      "source": [
        "#This code is given to you\n",
        "Uno_HL = keras.models.Sequential(name='Uno_HL_NN')\n",
        "Uno_HL.add(keras.layers.Dense(512, activation='relu', input_shape=(28*28,)))\n",
        "Uno_HL.add(keras.layers.Dense(10, activation='softmax'))\n",
        "Uno_HL.compile(optimizer = 'rmsprop',\n",
        "               loss = 'categorical_crossentropy',\n",
        "               metrics = ['accuracy'])\n",
        "\n",
        "Uno_HL.summary()"
      ]
    },
    {
      "cell_type": "markdown",
      "source": [
        "**Describing the number of parameters:** In the context of the hidden layer, we will be working with a learnable weight matrix sized at $512 \\times 784$ and a corresponding learnable bias vector of size 512. Consequently, the total number of parameters for the hidden layer is computed as $784 \\times 512 + 512 = 401920$. Subsequently, we will be exploring 10 learnable weight vectors, each sized at 512, along with one bias for each vector. Therefore, the overall number of parameters is determined as $10 \\times 512 + 10 = 5130$."
      ],
      "metadata": {
        "id": "NcDNajLaTGxA"
      }
    },
    {
      "cell_type": "code",
      "execution_count": 6,
      "metadata": {
        "colab": {
          "base_uri": "https://localhost:8080/",
          "height": 0
        },
        "id": "CgM7gB_PCDfT",
        "outputId": "b9d71937-e4b5-444f-b609-d14ff1121cad"
      },
      "outputs": [
        {
          "output_type": "stream",
          "name": "stdout",
          "text": [
            "Epoch 1/10\n",
            "235/235 [==============================] - 3s 10ms/step - loss: 0.3499 - accuracy: 0.9004\n",
            "Epoch 2/10\n",
            "235/235 [==============================] - 3s 14ms/step - loss: 0.1551 - accuracy: 0.9542\n",
            "Epoch 3/10\n",
            "235/235 [==============================] - 3s 12ms/step - loss: 0.1015 - accuracy: 0.9707\n",
            "Epoch 4/10\n",
            "235/235 [==============================] - 2s 10ms/step - loss: 0.0720 - accuracy: 0.9789\n",
            "Epoch 5/10\n",
            "235/235 [==============================] - 2s 10ms/step - loss: 0.0531 - accuracy: 0.9851\n",
            "Epoch 6/10\n",
            "235/235 [==============================] - 2s 10ms/step - loss: 0.0400 - accuracy: 0.9882\n",
            "Epoch 7/10\n",
            "235/235 [==============================] - 2s 10ms/step - loss: 0.0285 - accuracy: 0.9925\n",
            "Epoch 8/10\n",
            "235/235 [==============================] - 4s 15ms/step - loss: 0.0211 - accuracy: 0.9944\n",
            "Epoch 9/10\n",
            "235/235 [==============================] - 3s 11ms/step - loss: 0.0160 - accuracy: 0.9964\n",
            "Epoch 10/10\n",
            "235/235 [==============================] - 2s 9ms/step - loss: 0.0118 - accuracy: 0.9977\n",
            "------------------------------------------------------------------------------------\n",
            "MLP testing loss -->  0.0862974226474762\n",
            "MLP testing accuracy -->  0.9736999869346619\n"
          ]
        }
      ],
      "source": [
        "#This code is given to you\n",
        "Uno_HL.fit(train_images, train_labels, epochs=10, batch_size=128, verbose=1)\n",
        "\n",
        "test_loss, test_acc = Uno_HL.evaluate(test_images, test_labels, verbose=0)\n",
        "print('------------------------------------------------------------------------------------')\n",
        "print('MLP testing loss --> ', test_loss)\n",
        "print('MLP testing accuracy --> ', test_acc)"
      ]
    },
    {
      "cell_type": "markdown",
      "metadata": {
        "id": "AGKWq-uLCDfT"
      },
      "source": [
        "## 6. Training a convolutional neural network (CNN) using Keras/TensorFlow on MNIST\n",
        "Write the code for training a CNN using keras API. The first layer is the size of 64 with the kernel size of 3 and the relu activation; the second layer is the size of 32 with the kernel size of 3 and the relu activation, followed by faltten layer and the final output layer is 10 (the size of the output layer). Then report the testing loss and testing accuracy."
      ]
    },
    {
      "cell_type": "code",
      "execution_count": 7,
      "metadata": {
        "colab": {
          "base_uri": "https://localhost:8080/",
          "height": 0
        },
        "id": "7c2-D-wZCDfT",
        "outputId": "9755e278-7587-4998-859a-fd3761cf6882"
      },
      "outputs": [
        {
          "output_type": "stream",
          "name": "stdout",
          "text": [
            "Model: \"CNN_for_MNIST\"\n",
            "_________________________________________________________________\n",
            " Layer (type)                Output Shape              Param #   \n",
            "=================================================================\n",
            " conv2d (Conv2D)             (None, 26, 26, 64)        640       \n",
            "                                                                 \n",
            " conv2d_1 (Conv2D)           (None, 24, 24, 32)        18464     \n",
            "                                                                 \n",
            " max_pooling2d (MaxPooling2  (None, 12, 12, 32)        0         \n",
            " D)                                                              \n",
            "                                                                 \n",
            " flatten (Flatten)           (None, 4608)              0         \n",
            "                                                                 \n",
            " dense_3 (Dense)             (None, 10)                46090     \n",
            "                                                                 \n",
            "=================================================================\n",
            "Total params: 65194 (254.66 KB)\n",
            "Trainable params: 65194 (254.66 KB)\n",
            "Non-trainable params: 0 (0.00 Byte)\n",
            "_________________________________________________________________\n"
          ]
        }
      ],
      "source": [
        "# Import necessary libraries\n",
        "from tensorflow.keras.layers import Conv2D, MaxPooling2D, Flatten, Dense\n",
        "\n",
        "# Define the CNN model\n",
        "CNN_model = keras.models.Sequential(name='CNN_for_MNIST')\n",
        "\n",
        "# Add the first convolutional layer with 64 filters, kernel size 3x3, and relu activation\n",
        "CNN_model.add(Conv2D(64, (3, 3), activation='relu', input_shape=(28, 28, 1)))\n",
        "\n",
        "# Add the second convolutional layer with 32 filters, kernel size 3x3, and relu activation\n",
        "CNN_model.add(Conv2D(32, (3, 3), activation='relu'))\n",
        "\n",
        "# Add a max pooling layer\n",
        "CNN_model.add(MaxPooling2D(pool_size=(2, 2)))\n",
        "\n",
        "# Flatten the output before feeding it into the dense layer\n",
        "CNN_model.add(Flatten())\n",
        "\n",
        "# Add the output layer with 10 units and softmax activation\n",
        "CNN_model.add(Dense(10, activation='softmax'))\n",
        "\n",
        "# Compile the model\n",
        "CNN_model.compile(optimizer='adam',\n",
        "                  loss='categorical_crossentropy',\n",
        "                  metrics=['accuracy'])\n",
        "\n",
        "# Display the model summary\n",
        "CNN_model.summary()"
      ]
    },
    {
      "cell_type": "code",
      "execution_count": 8,
      "metadata": {
        "colab": {
          "base_uri": "https://localhost:8080/",
          "height": 0
        },
        "id": "mjT2onOVCDfT",
        "outputId": "052a989e-1751-457b-9b95-05aa0c103a79"
      },
      "outputs": [
        {
          "output_type": "stream",
          "name": "stdout",
          "text": [
            "Epoch 1/5\n",
            "235/235 [==============================] - 74s 310ms/step - loss: 0.3651 - accuracy: 0.8975\n",
            "Epoch 2/5\n",
            "235/235 [==============================] - 76s 323ms/step - loss: 0.0935 - accuracy: 0.9726\n",
            "Epoch 3/5\n",
            "235/235 [==============================] - 74s 315ms/step - loss: 0.0622 - accuracy: 0.9816\n",
            "Epoch 4/5\n",
            "235/235 [==============================] - 74s 315ms/step - loss: 0.0465 - accuracy: 0.9866\n",
            "Epoch 5/5\n",
            "235/235 [==============================] - 76s 324ms/step - loss: 0.0371 - accuracy: 0.9889\n",
            "------------------------------------------------------------------------------------\n",
            "CNN testing loss  -->  0.05614152178168297\n",
            "CNN testing accuracy  -->  0.9824000000953674\n"
          ]
        }
      ],
      "source": [
        "# Reshape the data for CNN\n",
        "train_images_cnn = train_images_2d.reshape(num_train, 28, 28, 1)\n",
        "test_images_cnn = test_images_2d.reshape(10000, 28, 28, 1)\n",
        "\n",
        "# Convert the data type and scale the images\n",
        "train_images_cnn = train_images_cnn.astype('float32') / 255\n",
        "test_images_cnn = test_images_cnn.astype('float32') / 255\n",
        "\n",
        "# Train the CNN model\n",
        "CNN_model.fit(train_images_cnn, train_labels, epochs=5, batch_size=128, verbose=1)\n",
        "\n",
        "# Evaluate the model on the test set\n",
        "test_loss_cnn, test_acc_cnn = CNN_model.evaluate(test_images_cnn, test_labels, verbose=0)\n",
        "print('------------------------------------------------------------------------------------')\n",
        "print('CNN testing loss  --> ', test_loss_cnn)\n",
        "print('CNN testing accuracy  --> ', test_acc_cnn)"
      ]
    },
    {
      "cell_type": "markdown",
      "metadata": {
        "id": "vbh7_ObxCDfT"
      },
      "source": [
        "## 6. Comparison between these three models\n",
        "Which model is better?\n",
        "\n",
        "In terms of accuracy and loss, the CNN yields better results. Furthermore, even though the accuracy of CNN and MLP is nearly identical, the number of learnable parameters in CNN is significantly lower than in MLP. This suggests a more generalized and superior model with the CNN.\n",
        "\n",
        "*   Multinomial Softmax Regression:\n",
        "  1.   Testing accuracy = 0.9155\n",
        "  2.   Testing loss =  0.2964\n",
        "  3.   Number of learnable parameters = 7850\n",
        "\n",
        "*   Multilayer Perceptron (MLP)\n",
        "  1.   Testing accuracy = 0.9737\n",
        "  2.   Testing loss =  0.0863\n",
        "  3.   Number of learnable parameters = 407050\n",
        "\n",
        "*    Convolutional Neural Network (CNN)\n",
        "  1.   Testing accuracy = 0.9824\n",
        "  2.   Testing loss =  0.0561\n",
        "  3.   Number of learnable parameters = 65194\n",
        "\n",
        "\n"
      ]
    },
    {
      "cell_type": "markdown",
      "metadata": {
        "id": "ANcxYBf5CDfT"
      },
      "source": [
        "## Part 2. Autoencoder\n",
        "In this part, we will use Keras and TensorFlow to train an autoencoder on MNIST dataset."
      ]
    },
    {
      "cell_type": "markdown",
      "metadata": {
        "id": "v6NqXQbwCDfT"
      },
      "source": [
        "## 1. Training an autoencoer (MLP) using Keras/TensorFlow on MNIST\n",
        "Write the code for training an MLP using keras API. The model parameter is 784 (the size of the input layer) -> 512 (middle hidden layer) -> relu (activiation function for the middle hidden layer) -> 10 (the size of the middle representation) -> 512 (middle hidden layer) -> relu (activiation function for the middle hidden layer) -> 784 (the size of the input)."
      ]
    },
    {
      "cell_type": "code",
      "execution_count": 9,
      "metadata": {
        "colab": {
          "base_uri": "https://localhost:8080/",
          "height": 0
        },
        "id": "N9aaN25VCDfT",
        "outputId": "13cced40-d2f1-4001-9beb-3670444ddd38"
      },
      "outputs": [
        {
          "output_type": "stream",
          "name": "stdout",
          "text": [
            "Model: \"AE\"\n",
            "_________________________________________________________________\n",
            " Layer (type)                Output Shape              Param #   \n",
            "=================================================================\n",
            " dense_4 (Dense)             (None, 512)               401920    \n",
            "                                                                 \n",
            " dense_5 (Dense)             (None, 10)                5130      \n",
            "                                                                 \n",
            " dense_6 (Dense)             (None, 512)               5632      \n",
            "                                                                 \n",
            " dense_7 (Dense)             (None, 784)               402192    \n",
            "                                                                 \n",
            "=================================================================\n",
            "Total params: 814874 (3.11 MB)\n",
            "Trainable params: 814874 (3.11 MB)\n",
            "Non-trainable params: 0 (0.00 Byte)\n",
            "_________________________________________________________________\n"
          ]
        }
      ],
      "source": [
        "# This code is given to you\n",
        "AE10 = keras.models.Sequential(name='AE')\n",
        "AE10.add(keras.layers.Dense(512, activation='relu', input_shape=(28*28,)))\n",
        "AE10.add(keras.layers.Dense(10, activation='relu'))\n",
        "AE10.add(keras.layers.Dense(512, activation='relu'))\n",
        "AE10.add(keras.layers.Dense(784, activation='relu'))\n",
        "AE10.compile(optimizer = 'rmsprop',\n",
        "               loss = 'MSE')\n",
        "\n",
        "AE10.summary()"
      ]
    },
    {
      "cell_type": "code",
      "execution_count": 10,
      "metadata": {
        "colab": {
          "base_uri": "https://localhost:8080/",
          "height": 0
        },
        "id": "oK1dLndDCDfU",
        "outputId": "d94bf71d-80ff-4e34-b00c-affd423edce3"
      },
      "outputs": [
        {
          "output_type": "stream",
          "name": "stdout",
          "text": [
            "Epoch 1/10\n",
            "235/235 [==============================] - 6s 21ms/step - loss: 0.0662\n",
            "Epoch 2/10\n",
            "235/235 [==============================] - 4s 19ms/step - loss: 0.0469\n",
            "Epoch 3/10\n",
            "235/235 [==============================] - 6s 24ms/step - loss: 0.0411\n",
            "Epoch 4/10\n",
            "235/235 [==============================] - 5s 22ms/step - loss: 0.0381\n",
            "Epoch 5/10\n",
            "235/235 [==============================] - 4s 19ms/step - loss: 0.0365\n",
            "Epoch 6/10\n",
            "235/235 [==============================] - 5s 23ms/step - loss: 0.0352\n",
            "Epoch 7/10\n",
            "235/235 [==============================] - 5s 22ms/step - loss: 0.0338\n",
            "Epoch 8/10\n",
            "235/235 [==============================] - 4s 19ms/step - loss: 0.0323\n",
            "Epoch 9/10\n",
            "235/235 [==============================] - 6s 23ms/step - loss: 0.0310\n",
            "Epoch 10/10\n",
            "235/235 [==============================] - 7s 31ms/step - loss: 0.0302\n",
            "Testing loss for the autoencoder, encoding images into a feature of size 10: 0.030090032145380974\n"
          ]
        }
      ],
      "source": [
        "# Fit the model, then report the testing loss and testing accuracy.\n",
        "\n",
        "# Fit the autoencoder model\n",
        "AE10.fit(train_images, train_images, epochs=10, batch_size=128, verbose=1)\n",
        "\n",
        "# Evaluate the autoencoder on the test set\n",
        "test_loss_autoencoder10 = AE10.evaluate(test_images, test_images, verbose=0)\n",
        "print(f'Testing loss for the autoencoder, encoding images into a feature of size 10: {test_loss_autoencoder10}')"
      ]
    },
    {
      "cell_type": "markdown",
      "metadata": {
        "id": "zA8m7i9iCDfU"
      },
      "source": [
        "## 2. Plot the reconstructed images\n",
        "Write the code for randomly plotting 10 image paris of the orginal and reconstrated images."
      ]
    },
    {
      "cell_type": "code",
      "source": [
        "# Select 10 random indices from the test set\n",
        "random_indices = np.random.randint(0, len(test_images), size=10)\n",
        "\n",
        "# Get the original and reconstructed images for the selected indices\n",
        "original_images = test_images[random_indices]\n",
        "reconstructed_images10 = AE10.predict(original_images)\n",
        "\n",
        "# Plot pairs of original and reconstructed images\n",
        "plt.figure(figsize=(16, 4))\n",
        "\n",
        "for i in range(10):\n",
        "    # Original image\n",
        "    plt.subplot(2, 10, i + 1)\n",
        "    plt.imshow(original_images[i].reshape(28, 28), cmap='gray')\n",
        "    plt.title('Original', fontsize=10)\n",
        "    plt.axis('off')\n",
        "\n",
        "    # Reconstructed image\n",
        "    plt.subplot(2, 10, i + 1 + 10)\n",
        "    plt.imshow(reconstructed_images10[i].reshape(28, 28), cmap='gray')\n",
        "    plt.title('Reconstructed\\n with 10 features', fontsize=10)\n",
        "    plt.axis('off')\n",
        "\n",
        "plt.show()\n"
      ],
      "metadata": {
        "colab": {
          "base_uri": "https://localhost:8080/",
          "height": 347
        },
        "id": "suThG-1A7V3e",
        "outputId": "aa02912e-4b94-4345-dc82-056dad123297"
      },
      "execution_count": 18,
      "outputs": [
        {
          "output_type": "stream",
          "name": "stdout",
          "text": [
            "1/1 [==============================] - 0s 21ms/step\n"
          ]
        },
        {
          "output_type": "display_data",
          "data": {
            "text/plain": [
              "<Figure size 1600x400 with 20 Axes>"
            ],
            "image/png": "[encoded data removed]"
          },
          "metadata": {}
        }
      ]
    },
    {
      "cell_type": "markdown",
      "metadata": {
        "id": "K65ezS-qCDfU"
      },
      "source": [
        "## 3. Vary the size of the middle representations.\n",
        "Write the code for randomly plotting 10 image paris of the orginal and reconstrated images with the size of the middle representation being 5, 2, and 1.\n",
        "\n",
        "Suggestion: write the model specification and the training as a function with the size of the middle layer as a parameter."
      ]
    },
    {
      "cell_type": "code",
      "source": [
        "def model_AE(n):\n",
        "\n",
        "  # This code is given to you\n",
        "  AE = keras.models.Sequential(name='AE')\n",
        "  AE.add(keras.layers.Dense(512, activation='relu', input_shape=(28*28,)))\n",
        "  AE.add(keras.layers.Dense(n, activation='relu'))\n",
        "  AE.add(keras.layers.Dense(512, activation='relu'))\n",
        "  AE.add(keras.layers.Dense(784, activation='relu'))\n",
        "  AE.compile(optimizer = 'rmsprop',\n",
        "                loss = 'MSE')\n",
        "  AE.summary()\n",
        "\n",
        "  return AE\n"
      ],
      "metadata": {
        "id": "NwmvhXPX5hB1"
      },
      "execution_count": 19,
      "outputs": []
    },
    {
      "cell_type": "code",
      "execution_count": 20,
      "metadata": {
        "scrolled": false,
        "colab": {
          "base_uri": "https://localhost:8080/",
          "height": 0
        },
        "id": "viOB76G1CDfU",
        "outputId": "9f9c5807-612c-42f6-8bfa-084ad1ecd38e"
      },
      "outputs": [
        {
          "output_type": "stream",
          "name": "stdout",
          "text": [
            "Model: \"AE\"\n",
            "_________________________________________________________________\n",
            " Layer (type)                Output Shape              Param #   \n",
            "=================================================================\n",
            " dense_8 (Dense)             (None, 512)               401920    \n",
            "                                                                 \n",
            " dense_9 (Dense)             (None, 5)                 2565      \n",
            "                                                                 \n",
            " dense_10 (Dense)            (None, 512)               3072      \n",
            "                                                                 \n",
            " dense_11 (Dense)            (None, 784)               402192    \n",
            "                                                                 \n",
            "=================================================================\n",
            "Total params: 809749 (3.09 MB)\n",
            "Trainable params: 809749 (3.09 MB)\n",
            "Non-trainable params: 0 (0.00 Byte)\n",
            "_________________________________________________________________\n",
            "Epoch 1/10\n",
            "235/235 [==============================] - 6s 21ms/step - loss: 0.0754\n",
            "Epoch 2/10\n",
            "235/235 [==============================] - 6s 24ms/step - loss: 0.0588\n",
            "Epoch 3/10\n",
            "235/235 [==============================] - 4s 19ms/step - loss: 0.0535\n",
            "Epoch 4/10\n",
            "235/235 [==============================] - 7s 29ms/step - loss: 0.0507\n",
            "Epoch 5/10\n",
            "235/235 [==============================] - 6s 25ms/step - loss: 0.0480\n",
            "Epoch 6/10\n",
            "235/235 [==============================] - 4s 19ms/step - loss: 0.0457\n",
            "Epoch 7/10\n",
            "235/235 [==============================] - 6s 24ms/step - loss: 0.0437\n",
            "Epoch 8/10\n",
            "235/235 [==============================] - 5s 22ms/step - loss: 0.0426\n",
            "Epoch 9/10\n",
            "235/235 [==============================] - 6s 25ms/step - loss: 0.0420\n",
            "Epoch 10/10\n",
            "235/235 [==============================] - 7s 31ms/step - loss: 0.0412\n",
            "1/1 [==============================] - 0s 62ms/step\n",
            "Model: \"AE\"\n",
            "_________________________________________________________________\n",
            " Layer (type)                Output Shape              Param #   \n",
            "=================================================================\n",
            " dense_12 (Dense)            (None, 512)               401920    \n",
            "                                                                 \n",
            " dense_13 (Dense)            (None, 2)                 1026      \n",
            "                                                                 \n",
            " dense_14 (Dense)            (None, 512)               1536      \n",
            "                                                                 \n",
            " dense_15 (Dense)            (None, 784)               402192    \n",
            "                                                                 \n",
            "=================================================================\n",
            "Total params: 806674 (3.08 MB)\n",
            "Trainable params: 806674 (3.08 MB)\n",
            "Non-trainable params: 0 (0.00 Byte)\n",
            "_________________________________________________________________\n",
            "Epoch 1/10\n",
            "235/235 [==============================] - 5s 19ms/step - loss: 0.0818\n",
            "Epoch 2/10\n",
            "235/235 [==============================] - 6s 26ms/step - loss: 0.0737\n",
            "Epoch 3/10\n",
            "235/235 [==============================] - 5s 20ms/step - loss: 0.0713\n",
            "Epoch 4/10\n",
            "235/235 [==============================] - 4s 19ms/step - loss: 0.0699\n",
            "Epoch 5/10\n",
            "235/235 [==============================] - 6s 25ms/step - loss: 0.0694\n",
            "Epoch 6/10\n",
            "235/235 [==============================] - 5s 20ms/step - loss: 0.0688\n",
            "Epoch 7/10\n",
            "235/235 [==============================] - 4s 19ms/step - loss: 0.0680\n",
            "Epoch 8/10\n",
            "235/235 [==============================] - 6s 25ms/step - loss: 0.0669\n",
            "Epoch 9/10\n",
            "235/235 [==============================] - 5s 20ms/step - loss: 0.0661\n",
            "Epoch 10/10\n",
            "235/235 [==============================] - 4s 19ms/step - loss: 0.0656\n",
            "1/1 [==============================] - 0s 70ms/step\n",
            "Model: \"AE\"\n",
            "_________________________________________________________________\n",
            " Layer (type)                Output Shape              Param #   \n",
            "=================================================================\n",
            " dense_16 (Dense)            (None, 512)               401920    \n",
            "                                                                 \n",
            " dense_17 (Dense)            (None, 1)                 513       \n",
            "                                                                 \n",
            " dense_18 (Dense)            (None, 512)               1024      \n",
            "                                                                 \n",
            " dense_19 (Dense)            (None, 784)               402192    \n",
            "                                                                 \n",
            "=================================================================\n",
            "Total params: 805649 (3.07 MB)\n",
            "Trainable params: 805649 (3.07 MB)\n",
            "Non-trainable params: 0 (0.00 Byte)\n",
            "_________________________________________________________________\n",
            "Epoch 1/10\n",
            "235/235 [==============================] - 7s 25ms/step - loss: 0.0839\n",
            "Epoch 2/10\n",
            "235/235 [==============================] - 4s 19ms/step - loss: 0.0816\n",
            "Epoch 3/10\n",
            "235/235 [==============================] - 5s 20ms/step - loss: 0.0811\n",
            "Epoch 4/10\n",
            "235/235 [==============================] - 6s 26ms/step - loss: 0.0798\n",
            "Epoch 5/10\n",
            "235/235 [==============================] - 5s 21ms/step - loss: 0.0779\n",
            "Epoch 6/10\n",
            "235/235 [==============================] - 5s 20ms/step - loss: 0.0767\n",
            "Epoch 7/10\n",
            "235/235 [==============================] - 6s 25ms/step - loss: 0.0761\n",
            "Epoch 8/10\n",
            "235/235 [==============================] - 4s 19ms/step - loss: 0.0758\n",
            "Epoch 9/10\n",
            "235/235 [==============================] - 5s 20ms/step - loss: 0.0754\n",
            "Epoch 10/10\n",
            "235/235 [==============================] - 6s 26ms/step - loss: 0.0748\n",
            "1/1 [==============================] - 0s 64ms/step\n"
          ]
        }
      ],
      "source": [
        "# Use Matplotlib\n",
        "#import matplotlib.pyplot as plt\n",
        "\n",
        "# Fit the autoencoder model, middle representation with vector size = 5\n",
        "AE5 = model_AE(5)\n",
        "AE5.fit(train_images, train_images, epochs=10, batch_size=128, verbose=1)\n",
        "test_loss_autoencoder5 = AE5.evaluate(test_images, test_images, verbose=0)\n",
        "reconstructed_images5 = AE5.predict(original_images)\n",
        "\n",
        "\n",
        "# Fit the autoencoder model, middle representation with vector size = 2\n",
        "AE2 = model_AE(2)\n",
        "AE2.fit(train_images, train_images, epochs=10, batch_size=128, verbose=1)\n",
        "test_loss_autoencoder2 = AE2.evaluate(test_images, test_images, verbose=0)\n",
        "reconstructed_images2 = AE2.predict(original_images)\n",
        "\n",
        "# Fit the autoencoder model, middle representation with vector size = 1\n",
        "AE1 = model_AE(1)\n",
        "AE1.fit(train_images, train_images, epochs=10, batch_size=128, verbose=1)\n",
        "test_loss_autoencoder1 = AE1.evaluate(test_images, test_images, verbose=0)\n",
        "reconstructed_images1 = AE1.predict(original_images)\n"
      ]
    },
    {
      "cell_type": "code",
      "source": [
        "print(f'Testing loss for the autoencoder, encoding images into a feature of size 10: {test_loss_autoencoder10}')\n",
        "print(f'Testing loss for the autoencoder, encoding images into a feature of size 5: {test_loss_autoencoder5}')\n",
        "print(f'Testing loss for the autoencoder, encoding images into a feature of size 2: {test_loss_autoencoder2}')\n",
        "print(f'Testing loss for the autoencoder, encoding images into a feature of size 1: {test_loss_autoencoder1}')"
      ],
      "metadata": {
        "colab": {
          "base_uri": "https://localhost:8080/",
          "height": 0
        },
        "id": "-THnSFF39w_i",
        "outputId": "b5708482-0432-4ecd-fdb4-3194a49c6d63"
      },
      "execution_count": 23,
      "outputs": [
        {
          "output_type": "stream",
          "name": "stdout",
          "text": [
            "Testing loss for the autoencoder, encoding images into a feature of size 10: 0.030090032145380974\n",
            "Testing loss for the autoencoder, encoding images into a feature of size 5: 0.0405413955450058\n",
            "Testing loss for the autoencoder, encoding images into a feature of size 2: 0.065337635576725\n",
            "Testing loss for the autoencoder, encoding images into a feature of size 1: 0.0744910016655922\n"
          ]
        }
      ]
    },
    {
      "cell_type": "code",
      "source": [
        "# Plot pairs of original and reconstructed images\n",
        "plt.figure(figsize=(16, 10))  # Adjust the figsize\n",
        "\n",
        "for i in range(10):\n",
        "    # Original images\n",
        "    plt.subplot(5, 10, i + 1)\n",
        "    plt.imshow(original_images[i].reshape(28, 28), cmap='gray')\n",
        "    plt.title('Original', fontsize=10)\n",
        "    plt.axis('off')\n",
        "\n",
        "    # Reconstructed images with 10 features\n",
        "    plt.subplot(5, 10, i + 1 + 10)\n",
        "    plt.imshow(reconstructed_images10[i].reshape(28, 28), cmap='gray')\n",
        "    plt.title('Reconstructed\\nwith 10 features', fontsize=10)\n",
        "    plt.axis('off')\n",
        "\n",
        "    # Reconstructed images with 5 features\n",
        "    plt.subplot(5, 10, i + 1 + 20)\n",
        "    plt.imshow(reconstructed_images5[i].reshape(28, 28), cmap='gray')\n",
        "    plt.title('Reconstructed\\nwith 5 features', fontsize=10)\n",
        "    plt.axis('off')\n",
        "\n",
        "    # Reconstructed images with 2 features\n",
        "    plt.subplot(5, 10, i + 1 + 30)\n",
        "    plt.imshow(reconstructed_images2[i].reshape(28, 28), cmap='gray')\n",
        "    plt.title('Reconstructed\\nwith 2 features', fontsize=10)\n",
        "    plt.axis('off')\n",
        "\n",
        "    # Reconstructed images with 1 feature\n",
        "    plt.subplot(5, 10, i + 1 + 40)\n",
        "    plt.imshow(reconstructed_images1[i].reshape(28, 28), cmap='gray')\n",
        "    plt.title('Reconstructed\\nwith 1 feature', fontsize=10)\n",
        "    plt.axis('off')\n",
        "\n",
        "plt.show()"
      ],
      "metadata": {
        "colab": {
          "base_uri": "https://localhost:8080/",
          "height": 798
        },
        "id": "vTmi0p3fJwOa",
        "outputId": "d11af358-2031-46a4-be90-d01e9abd31e0"
      },
      "execution_count": 25,
      "outputs": [
        {
          "output_type": "display_data",
          "data": {
            "text/plain": [
              "<Figure size 1600x1000 with 50 Axes>"
            ],
            "image/png": "[encoded data removed]"
          },
          "metadata": {}
        }
      ]
    },
    {
      "cell_type": "markdown",
      "metadata": {
        "id": "6bhFYP2VCDfU"
      },
      "source": [
        "## 4. What do you observe for varying the size of representations?\n",
        "\n",
        "The hidden representation size in autoencoders impacts how much information the model captures. A larger size allows for detailed representations but may lead to overfitting and higher computational requirements. On the other hand, a smaller size encourages a more generalized model, reducing computational demands but potentially losing some details in reconstructions."
      ]
    },
    {
      "cell_type": "code",
      "source": [],
      "metadata": {
        "id": "A92V3E93KEyG"
      },
      "execution_count": null,
      "outputs": []
    }
  ],
  "metadata": {
    "kernelspec": {
      "display_name": "Python 3",
      "language": "python",
      "name": "python3"
    },
    "language_info": {
      "codemirror_mode": {
        "name": "ipython",
        "version": 3
      },
      "file_extension": ".py",
      "mimetype": "text/x-python",
      "name": "python",
      "nbconvert_exporter": "python",
      "pygments_lexer": "ipython3",
      "version": "3.8.5"
    },
    "colab": {
      "provenance": []
    }
  },
  "nbformat": 4,
  "nbformat_minor": 0
}